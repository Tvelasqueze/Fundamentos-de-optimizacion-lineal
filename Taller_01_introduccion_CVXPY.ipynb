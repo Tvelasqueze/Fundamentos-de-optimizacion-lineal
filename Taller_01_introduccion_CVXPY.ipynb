{
  "nbformat": 4,
  "nbformat_minor": 0,
  "metadata": {
    "colab": {
      "provenance": [],
      "toc_visible": true,
      "include_colab_link": true
    },
    "kernelspec": {
      "name": "python3",
      "display_name": "Python 3"
    }
  },
  "cells": [
    {
      "cell_type": "markdown",
      "metadata": {
        "id": "view-in-github",
        "colab_type": "text"
      },
      "source": [
        "<a href=\"https://colab.research.google.com/github/gabrielawad/Fundamentos-de-optimizacion-lineal/blob/main/Taller_01_introduccion_CVXPY.ipynb\" target=\"_parent\"><img src=\"https://colab.research.google.com/assets/colab-badge.svg\" alt=\"Open In Colab\"/></a>"
      ]
    },
    {
      "cell_type": "markdown",
      "source": [
        "## «*Solo se puede tener fe en la duda*».\n",
        "### [Jorge Wagensberg](https://es.wikipedia.org/wiki/Jorge_Wagensberg)"
      ],
      "metadata": {
        "id": "cr-wZpWhC2dt"
      }
    },
    {
      "metadata": {
        "id": "tpFFfpLa7D_R"
      },
      "cell_type": "markdown",
      "source": [
        "# Taller 01 introducción a CVXPY\n",
        "\n",
        "En este taller aprenderá los conceptos básicos de Python 3 relativos a la librería CVXPY.\n",
        "\n",
        "CVXPY  **no es una librería nativa** de Python por lo que **requiere ser instalada antes de ser invocada**. Sin embargo, esta librería sí está preinstalada en Google Colaboratory por lo que basta invocarla para poder usar sus funcionalidades.\n",
        "\n",
        "Puede consultar mayor información en: [CVXPY](https://www.cvxpy.org/)\n"
      ]
    },
    {
      "cell_type": "markdown",
      "source": [
        "## Características generales de CVXPY\n",
        "\n",
        "CVXPY  es un lenguaje de modelado para [optimización de problemas convexos](https://web.stanford.edu/~boyd/cvxbook/), que funciona como una librería de Python.\n",
        "\n",
        "Su principal ventaja es que permite la formulación de problemas por medio de expresiones algebraicas o matriciales. CVXPY automáticamente transforma el problema a su forma estándar, lo resuelve por medio de un  [solvers](https://en.wikipedia.org/wiki/Solver), y entrega los resultados.\n",
        "\n",
        "Es decir, simplifica el proceso de optimización computacional ya que es capaz de resolver el problema sin necesidad de convertirlo a las formas estándares requeridas por los [solvers](https://en.wikipedia.org/wiki/Solver).\n",
        "\n",
        "## Página oficial\n",
        "La información oficial de CVXPY puede ser consultada en [www.cvxpy.org](http://www.cvxpy.org)"
      ],
      "metadata": {
        "id": "Q1cx54I9GtOj"
      }
    },
    {
      "metadata": {
        "id": "Qqb6pVqSpExP"
      },
      "cell_type": "markdown",
      "source": [
        "## Tipos de variables en CVXPY\n",
        "\n",
        "CVXPY permite crear variables, parámetros escalares y arreglos (vectores y matrices); para tal efecto sigue la sintaxis (formatos) de la librería [NumPy](https://docs.scipy.org/doc/numpy/index.html).\n"
      ]
    },
    {
      "metadata": {
        "id": "jFPNMR1rpR-c"
      },
      "cell_type": "code",
      "source": [
        "# Importar la librería que se va a utilizar\n",
        "import cvxpy as cvx\n",
        "\n",
        "# Crear una variable de tipo escalar\n",
        "var_esc = cvx.Variable()\n",
        "\n",
        "# Crear una variable escalar con restricción de no negatividad\n",
        "var_esc_no_neg = cvx.Variable(nonneg = True)\n",
        "\n",
        "# Crear una variable escalar entera\n",
        "var_esc_ent = cvx.Variable(integer=True)\n",
        "\n",
        "# Crear una variable booleana\n",
        "var_bool = cvx.Variable(boolean=True)\n",
        "\n",
        "# Crear un parámetro con un valor específico\n",
        "b = 8\n",
        "\n",
        "# Crear una variable como un arreglo (3,1). Contiene 3 filas y una columna\n",
        "c = cvx.Variable((3,1))\n",
        "\n",
        "# Crear una parámetro como un  arreglo  con valores específicos\n",
        "d = [3, 2, 4]\n",
        "\n",
        "# Crear un parámetro como un arreglo con valores específicos\n",
        "f = [[5, 6, 7],[2, 6, 9],[3, 8, 5],[9, 5,1 ]]"
      ],
      "execution_count": null,
      "outputs": []
    },
    {
      "cell_type": "markdown",
      "source": [
        "## Ejemplo 00: minimizar sujeto a restricciones\n",
        "\n",
        "Minimizar 3x + 8y\n",
        "\n",
        "sujeto a:\n",
        "\n",
        "x + y >= 50\n",
        "\n",
        "x - y <= 20\n",
        "\n",
        "x, y no negativos"
      ],
      "metadata": {
        "id": "LdmJshTLGPlm"
      }
    },
    {
      "cell_type": "code",
      "source": [
        "# Importar la librería que se va a utilizar\n",
        "import cvxpy as cvx\n",
        "\n",
        "# Crear las variables de decisión y establecer restricciones de no negatividad\n",
        "x = cvx.Variable(nonneg = True)\n",
        "y = cvx.Variable(nonneg = True)\n",
        "\n",
        "# Definir la función objetivo\n",
        "obj_00 = cvx.Minimize(3*x + 8*y)\n",
        "\n",
        "# Establecer las restricciones\n",
        "restricciones_00 = [\n",
        "\n",
        "# Restricción 1\n",
        "x + y >= 50,\n",
        "\n",
        " # Restricción 2\n",
        "x - y <= 20\n",
        "]\n",
        "\n",
        "# Configurar el problema\n",
        "problema_00 = cvx.Problem(obj_00, restricciones_00)\n",
        "\n",
        "# Obtener el valor óptimo\n",
        "problema_00.solve()\n",
        "\n",
        "# Mostrar el estado de la solución\n",
        "print(\"Estado de la solución:\", problema_00.status,\"\\n\")\n",
        "\n",
        "# Mostrar el valor óptimo de la función objetivo\n",
        "print(\"Valor óptimo de la función objetivo:\", problema_00.value,\"\\n\")\n",
        "\n",
        "# Mostrar los valores óptimos de las variables de decisión\n",
        "print(\"Valor óptimo de x:\", x.value,\"\\n\")\n",
        "print(\"Valor óptimo de y:\", y.value)"
      ],
      "metadata": {
        "id": "Qd11Sd6JHXhk"
      },
      "execution_count": null,
      "outputs": []
    },
    {
      "cell_type": "markdown",
      "source": [
        "# Los problemas en CVXPY son objetos INMUTABLES\n",
        "\n",
        "Es decir que no pueden ser modificados después de su creación. Si necesita hacer ajustes a un problema (agregar o eliminar variables, incluir o suprimir restricciones) defina un nuevo problema."
      ],
      "metadata": {
        "id": "gZaO7FpvIsjV"
      }
    },
    {
      "cell_type": "markdown",
      "source": [
        "## Ejemplo 01: Industrias Felicidad\n",
        "\n",
        "Industrias Felicidad S. A. produce mezcla para tortas utilizando un molino. Para producir una tonelada de mezcla para tortas se requieren dos horas de trabajo del molino y tres horas de trabajo en la sección de empacado.\n",
        "\n",
        "El molino solo puede estar en funcionamiento diez horas diarias, mientras que la sección de empacado puede trabajar hasta 16 horas diarias.\n",
        "\n",
        "Cada tonelada de mezcla para tortas se vende a 250.000 pesos y tiene un costo de producción de 180.000 pesos.\n",
        "\n",
        "Calcule la producción diaria de mezcla para tortas para maximizar el ingreso por ventas."
      ],
      "metadata": {
        "id": "-jgP9xx3Iu1_"
      }
    },
    {
      "cell_type": "code",
      "source": [
        "# Importar la librería que se va a utilizar\n",
        "import cvxpy as cvx\n",
        "\n",
        "# Crear la variable de decisión y la restricción de no negatividad\n",
        "q_torta = cvx.Variable(nonneg = True)\n",
        "\n",
        "# Definir la función objetivo para maximizar el ingreso\n",
        "obj_ind_fel = cvx.Maximize(250000*q_torta)\n",
        "\n",
        "# Establecer las restricciones\n",
        "restricciones_ind_fel = [\n",
        "\n",
        "# Restricción de capacidad de molino\n",
        "# 2 (horas/tonelada) * cantidad (toneladas) = tiempo disponible molino (horas)\n",
        "2*q_torta <= 10,\n",
        "\n",
        "# Restricción de capacidad de empacado\n",
        "# 3 (horas/tonelada) * cantidad (toneladas) = tiempo disponible empacado (horas)\n",
        "3*q_torta<= 16\n",
        "\n",
        "]\n",
        "\n",
        "# Configurar el problema\n",
        "prob_ind_fel = cvx.Problem(obj_ind_fel, restricciones_ind_fel)\n",
        "\n",
        "# Obtener el valor óptimo\n",
        "prob_ind_fel.solve()\n",
        "\n",
        "# Mostrar el estado de la solución\n",
        "print(\"Estado de la solución:\", prob_ind_fel.status)\n",
        "\n",
        "# Mostrar el valor óptimo de la función objetivo\n",
        "print(\"Ingreso máximo:\", prob_ind_fel.value)\n",
        "\n",
        "# Mostrar los valores óptimos de las variables de decisión\n",
        "print(\"Cantidad de mezcla de tortas que maximiza el ingreso por ventas:\", q_torta.value)"
      ],
      "metadata": {
        "id": "KZrbP3LaUK4J"
      },
      "execution_count": null,
      "outputs": []
    },
    {
      "metadata": {
        "id": "vC4A8CoVl6wo"
      },
      "cell_type": "markdown",
      "source": [
        "## Ejemplo 02: Compañía Reddy Mikks\n",
        "\n",
        "Tomado del libro de [TAHA, 2012](https://fad.unsa.edu.pe/bancayseguros/wp-content/uploads/sites/4/2019/03/investigacic3b3n-de-operaciones-9na-edicic3b3n-hamdy-a-taha-fl.pdf), ejemplo 2.1-1 página 13.\n",
        "\n",
        "Reddy Mikks se propone determinar la combinación óptima de pinturas para interiores y exteriores que maximice la utilidad diaria total.\n",
        "\n",
        "Variables de decisión:\n",
        "\n",
        "Xi = toneladas producidas diariamente de la pintura tipo i.\n",
        "Sea i {1 = para exteriores, 2 = para interiores}\n",
        "\n",
        "Función objetivo:\n",
        "Max Z = 5000X1 + 4000X2\n",
        "\n",
        "Restricciones:\n",
        "\n",
        "Consumo de M1 para ambas pinturas:  \t\t6X1 + 4X2 ≤ 24\n",
        "\n",
        "Consumo de M2 para ambas pinturas:\t \tX1 + 2X2 ≤ 6\n",
        "\n",
        "Límites de demanda diaria:\t\t\tX2 – X1  ≤ 1\n",
        "\n",
        "Límites de demanda diaria para pintura de interiores:\t\tX2  ≤ 2\n",
        "\n",
        "No negatividad:  \t\t\t Xi ≥ 0 para todo i\n"
      ]
    },
    {
      "metadata": {
        "id": "Jj3FjipalypH"
      },
      "cell_type": "code",
      "source": [
        "# Ejemplo 2.1-1 del libro de TAHA (Compañía Reddy Mikks)\n",
        "\n",
        "# Importar la librería que se va a utilizar\n",
        "import cvxpy as cvx\n",
        "\n",
        "# Crear las variables de decisión y las restricciones de no negatividad\n",
        "exterior = cvx.Variable(nonneg = True)\n",
        "interior = cvx.Variable(nonneg = True)\n",
        "\n",
        "# Definir la función objetivo para maximizar el ingreso\n",
        "# Unidades: US$/ton*ton + US$/ton*ton = US$\n",
        "obj_rm = cvx.Maximize(5000*exterior + 4000*interior)\n",
        "\n",
        "# Establecer las restricciones\n",
        "restricciones_rm = [\n",
        "\n",
        "# Consumo de materia prima M1\n",
        "# Unidades: ton + ton = ton\n",
        "6*exterior + 4*interior <= 24,\n",
        "\n",
        "# Consumo de materia prima M2\n",
        " # Unidades: ton + ton = ton\n",
        "1*exterior + 2*interior <= 6,\n",
        "\n",
        "# Límites de demanda diaria\n",
        "# Unidades: ton + ton = ton\n",
        "interior - exterior <= 1,\n",
        "\n",
        "# Demanda diaria para pintura de interiores\n",
        "# Unidades:  ton = ton\n",
        "interior <= 2\n",
        "]\n",
        "\n",
        "# Configurar el problema\n",
        "prob_rm = cvx.Problem(obj_rm, restricciones_rm)\n",
        "\n",
        "# Obtener el valor óptimo\n",
        "prob_rm.solve()\n",
        "\n",
        "# Mostrar el estado de la solución\n",
        "print(\"Estado de la solución:\", prob_rm.status, \"\\n\")\n",
        "\n",
        "# Mostrar el valor óptimo de la función objetivo sin aproximaciones\n",
        "print(\"Utilidad máxima SIN aproximaciones:\", prob_rm.value, \"\\n\")\n",
        "\n",
        "# Mostrar el valor óptimo de la función objetivo aproximado a dos decimales\n",
        "print(\"Utilidad máxima aproximada a dos decimales:\", \"%.2f\"% prob_rm.value, \"\\n\")\n",
        "\n",
        "# Mostrar los valores óptimos de las variables de decisión\n",
        "print(\"Toneladas producidas de pinturas para exteriores que optimizan las utilidades \\\n",
        "SIN aproximaciones:\", exterior.value, \"\\n\")\n",
        "\n",
        "print(\"Toneladas producidas de pinturas para exteriores que optimizan las utilidades:\", \\\n",
        "      \"%.2f\"% exterior.value,\"\\n\")\n",
        "\n",
        "print(\"Toneladas producidas de pinturas para interiores que optimizan las utilidades \\\n",
        "SIN aproximaciones:\", interior.value,\"\\n\")\n",
        "\n",
        "print(\"Toneladas producidas de pinturas para interiores que optimizan las utilidades:\",\\\n",
        "      \"%.2f\"% interior.value,\"\\n\")"
      ],
      "execution_count": null,
      "outputs": []
    },
    {
      "metadata": {
        "id": "HViZdbUvh3cU"
      },
      "cell_type": "markdown",
      "source": [
        "## Ejemplo 03: problema de la dieta\n",
        "\n",
        "Tomado del libro de [TAHA, 2012](https://fad.unsa.edu.pe/bancayseguros/wp-content/uploads/sites/4/2019/03/investigacic3b3n-de-operaciones-9na-edicic3b3n-hamdy-a-taha-fl.pdf), ejemplo 2.1-1 página 24.\n",
        "\n",
        "Variables de decisión:\n",
        "\n",
        "X1: libras de maíz en la mezcla diaria\n",
        "\n",
        "X2: libras de soya en la mezcla diaria\n",
        "\n",
        "Función objetivo:\n",
        "\n",
        "\n",
        "Minimizar Z = 0,3 X1 + 0,9 X2\n",
        "\n",
        "Restricciones:\n",
        "\n",
        "Necesidades dietéticas de proteína:\n",
        "\n",
        "\t\t0,09 X1 + 0,6 X2  ≥  0,3 ( X1 + X2)\n",
        "\n",
        "Necesidades dietéticas de fibra:\n",
        "\n",
        "\t\t0,02 X1 + 0,06 X2  ≤  0,05 (X1 + X2)\n",
        "\n",
        "Consumo mínimo de mezcla diaria:\n",
        "\n",
        "\t\tX1 + X2 ≥ 800\n",
        "\n",
        "No negatividad:\n",
        "\n",
        "\t\t\t\tX1, X2  ≥ 0\n",
        "\n",
        "\n",
        "Organizando las ecuaciones se obtiene:\n",
        "\n",
        "Necesidades dietéticas de proteína:\n",
        "\n",
        "\t\t0,21 X1 - 0,30 X2  ≤ 0\n",
        "\n",
        "Necesidades dietéticas de fibra:\n",
        "\n",
        "\t\t0,03 X1 - 0,01 X2  ≥ 0\n",
        "\n",
        "Consumo mínimo de mezcla diaria:\n",
        "\n",
        "    X1 + X2 ≥ 800\n",
        "\n",
        "No negatividad:\n",
        "\n",
        "\t\t\t\tX1, X2  ≥ 0\n",
        "\n"
      ]
    },
    {
      "metadata": {
        "id": "DeKpD7K7k4GR"
      },
      "cell_type": "code",
      "source": [
        "# Ejemplo 2.2-2 del libro de TAHA (Problema de la dieta)\n",
        "\n",
        "# Importar la librería que se va a utilizar\n",
        "import cvxpy as cvx\n",
        "\n",
        "# Crear las variables a optimizar\n",
        "maiz = cvx.Variable(nonneg = True)\n",
        "soya = cvx.Variable(nonneg = True)\n",
        "\n",
        "# Definir la función objetivo para minimizar el costo\n",
        "# Unidades: US$/libra*libra + US$/libra*libra = US$\n",
        "obj_dieta = cvx.Minimize(0.3*maiz + 0.9*soya)\n",
        "\n",
        "# Establecer las restricciones\n",
        "restricciones_dieta = [\n",
        "\n",
        "# Necesidades dietéticas de proteína\n",
        "# Unidades: %/libra*libra + %/libra*libra = %\n",
        "0.21*maiz - 0.3*soya <= 0,\n",
        "\n",
        "# Necesidades dietéticas de fibra\n",
        "# Unidades: %/libra*libra + %/libra*libra = %\n",
        "0.03*maiz - 0.01*soya >= 0,\n",
        "\n",
        "# Consumo mínimo de mezlca diaria\n",
        "# Unidades: libra + libra = libra\n",
        "soya + maiz >= 800\n",
        "]\n",
        "\n",
        "# Configurar el problema\n",
        "prob_dieta = cvx.Problem(obj_dieta, restricciones_dieta)\n",
        "\n",
        "# Obtener el valor óptimo\n",
        "prob_dieta.solve()\n",
        "\n",
        "# Mostrar el estado de la solución\n",
        "print(\"Estado de la solución:\", prob_dieta.status, \"\\n\")\n",
        "\n",
        "# Mostrar el valor óptimo de la función objetivo sin aproximaciones\n",
        "print(\"Costo mínimo SIN aproximaciones:\", prob_dieta.value,\"\\n\")\n",
        "\n",
        "# Mostrar el valor óptimo de la función objetivo aproximado a dos decimales\n",
        "print(\"Costo mínimo aproximada a dos decimales:\", \"%.2f\"% prob_dieta.value, \"\\n\")\n",
        "\n",
        "# Mostrar los valores óptimos de las variables de decisión sin aproximaciones\n",
        "print(\"Cantidad de libras de maíz que minimizan el costo SIN aproximaciones:\",\\\n",
        "      maiz.value, \"\\n\")\n",
        "\n",
        "print(\"Cantidad de libras de soya que minimizan el costo SIN aproximaciones:\", \\\n",
        "      soya.value, \"\\n\")\n",
        "\n",
        "# Mostrar los valores óptimos de las variables de decisión aproximado a dos decimales\n",
        "print(\"Cantidad de libras de maíz que minimizan el costo aproximada a dos decimales:\", \\\n",
        "      \"%.2f\"%  maiz.value, \"\\n\")\n",
        "\n",
        "print(\"Cantidad de libras de soya que minimizan el costo aproximada a dos decimales:\",\\\n",
        "      \"%.2f\"%  soya.value, \"\\n\")"
      ],
      "execution_count": null,
      "outputs": []
    },
    {
      "cell_type": "markdown",
      "source": [
        "# Ejercicios\n",
        "\n",
        "Resolver los siguientes ejercicios con CVXPY."
      ],
      "metadata": {
        "id": "6a9EgrtHYAcV"
      }
    },
    {
      "cell_type": "markdown",
      "source": [
        "## Ejercicio 00\n",
        "\n",
        "Maximizar  Z: 3x + 2y\n",
        "\n",
        "   sujeto a:\n",
        "\n",
        "   2x + y <= 10\n",
        "\n",
        "   x + 3y <= 12\n",
        "\n",
        "   x >= 0\n",
        "   \n",
        "   y >= 0\n",
        "\n",
        "\n",
        "\n",
        "\n"
      ],
      "metadata": {
        "id": "4kpeP548VfWv"
      }
    },
    {
      "cell_type": "code",
      "source": [
        "# Resuelva en esta celda el ejercicio\n"
      ],
      "metadata": {
        "id": "n2v2uvLkZD0s"
      },
      "execution_count": null,
      "outputs": []
    },
    {
      "cell_type": "markdown",
      "source": [
        "## Ejercicio 01\n",
        "\n",
        "Minimizar  Z: 2x + 3y\n",
        "\n",
        "   sujeto a:\n",
        "\n",
        "   3x + y >= 6\n",
        "\n",
        "   2x + 2y >= 8\n",
        "\n",
        "   x >= 0\n",
        "\n",
        "   y >= 0\n",
        "\n"
      ],
      "metadata": {
        "id": "AWpJFnkfZE8X"
      }
    },
    {
      "cell_type": "code",
      "source": [
        "# Resuelva en esta celda el ejercicio\n"
      ],
      "metadata": {
        "id": "nEHnjFNraLvf"
      },
      "execution_count": null,
      "outputs": []
    },
    {
      "cell_type": "markdown",
      "source": [
        "## Ejercicio 02\n",
        "\n",
        "Maximizar  Z: 4x + 3y\n",
        "\n",
        "   sujeto a:\n",
        "\n",
        "   3x + 2y <= 15\n",
        "\n",
        "   2x + 4y <= 12\n",
        "\n",
        "   x >= 0\n",
        "\n",
        "   y >= 0"
      ],
      "metadata": {
        "id": "0hEyKcvlaM1p"
      }
    },
    {
      "cell_type": "code",
      "source": [
        "# Resuelva en esta celda el ejercicio\n"
      ],
      "metadata": {
        "id": "yN0MvrQ4ao7v"
      },
      "execution_count": null,
      "outputs": []
    },
    {
      "cell_type": "markdown",
      "source": [
        "## Ejercicio 03\n",
        "\n",
        "Minimizar  Z: 4x + 2y\n",
        "\n",
        "   sujeto a:\n",
        "\n",
        "   x + 3y >= 9\n",
        "\n",
        "   2x + y >= 8\n",
        "\n",
        "   x >= 0\n",
        "\n",
        "   y >= 0"
      ],
      "metadata": {
        "id": "qj50yF_aP_yM"
      }
    },
    {
      "cell_type": "code",
      "source": [
        "# Resuelva en esta celda el ejercicio\n"
      ],
      "metadata": {
        "id": "YDbBS606QSxx"
      },
      "execution_count": null,
      "outputs": []
    },
    {
      "cell_type": "markdown",
      "source": [
        "## Ejercicio 04\n",
        "\n",
        "Maximizar  Z: 5x + 4y\n",
        "\n",
        "   sujeto a:\n",
        "\n",
        "   x + y <= 8\n",
        "\n",
        "   2x + 3y <= 15\n",
        "\n",
        "   x >= 0\n",
        "   \n",
        "   y >= 0\n"
      ],
      "metadata": {
        "id": "4852xGV9QBaQ"
      }
    },
    {
      "cell_type": "code",
      "source": [
        "# Resuelva en esta celda el ejercicio\n"
      ],
      "metadata": {
        "id": "xNrof7kmQUED"
      },
      "execution_count": null,
      "outputs": []
    },
    {
      "cell_type": "markdown",
      "source": [
        "## Ejercicio 05\n",
        "\n",
        "Minimizar  Z: 3x + 4y\n",
        "\n",
        "   sujeto a:\n",
        "\n",
        "   x + 2y >= 5\n",
        "\n",
        "   2x + y >= 7\n",
        "\n",
        "   x >= 0\n",
        "\n",
        "   y >= 0"
      ],
      "metadata": {
        "id": "ztj4sS1hQDtc"
      }
    },
    {
      "cell_type": "code",
      "source": [
        "# Resuelva en esta celda el ejercicio\n"
      ],
      "metadata": {
        "id": "jg0TczRIQVsk"
      },
      "execution_count": null,
      "outputs": []
    },
    {
      "cell_type": "markdown",
      "source": [
        "## Ejercicio 06\n",
        "\n",
        "Maximizar  Z: 2x + 5y\n",
        "\n",
        "   sujeto a:\n",
        "\n",
        "   x + 2y <= 6\n",
        "\n",
        "   3x + y <= 9\n",
        "\n",
        "   x >= 0\n",
        "   \n",
        "   y >= 0\n"
      ],
      "metadata": {
        "id": "hATd-LMUQGP_"
      }
    },
    {
      "cell_type": "code",
      "source": [
        "# Resuelva en esta celda el ejercicio\n"
      ],
      "metadata": {
        "id": "KWFwRqE7QX0H"
      },
      "execution_count": null,
      "outputs": []
    },
    {
      "cell_type": "markdown",
      "source": [
        "## Ejercicio 07\n",
        "\n",
        "Minimizar  Z: x + 2y\n",
        "\n",
        "   sujeto a:\n",
        "\n",
        "   2x + y >= 10\n",
        "\n",
        "   x + 3y >= 12\n",
        "\n",
        "   x >= 0\n",
        "   \n",
        "   y >= 0\n"
      ],
      "metadata": {
        "id": "ZNOMGOKfQHkc"
      }
    },
    {
      "cell_type": "code",
      "source": [
        "# Resuelva en esta celda el ejercicio\n"
      ],
      "metadata": {
        "id": "EFyBSu0OQZ5X"
      },
      "execution_count": null,
      "outputs": []
    },
    {
      "cell_type": "markdown",
      "source": [
        "## Ejercicio 08\n",
        "\n",
        "Maximizar  Z: x + 3y\n",
        "\n",
        "   sujeto a:\n",
        "\n",
        "   x + y <= 5\n",
        "\n",
        "   2x + 2y <= 10\n",
        "\n",
        "   x + 2y <= 8\n",
        "\n",
        "   x >= 0\n",
        "\n",
        "   y >= 0"
      ],
      "metadata": {
        "id": "k1SR_Y-RQJC1"
      }
    },
    {
      "cell_type": "code",
      "source": [
        "# Resuelva en esta celda el ejercicio\n"
      ],
      "metadata": {
        "id": "1Wky-Hp7Qa1P"
      },
      "execution_count": null,
      "outputs": []
    },
    {
      "cell_type": "markdown",
      "source": [
        "## Ejercicio 09\n",
        "\n",
        "Minimizar  Z: 2x + y\n",
        "\n",
        "   sujeto a:\n",
        "\n",
        "   x + y >= 6\n",
        "\n",
        "   2x + 3y >= 12\n",
        "\n",
        "   x + 2y >= 8\n",
        "\n",
        "   x >= 0\n",
        "   \n",
        "   y >= 0\n"
      ],
      "metadata": {
        "id": "VlxrpT47QKdX"
      }
    },
    {
      "cell_type": "code",
      "source": [
        "# Resuelva en esta celda el ejercicio\n"
      ],
      "metadata": {
        "id": "lwx5c9ecQeTD"
      },
      "execution_count": null,
      "outputs": []
    }
  ]
}